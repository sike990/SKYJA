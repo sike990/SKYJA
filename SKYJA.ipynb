{
  "nbformat": 4,
  "nbformat_minor": 0,
  "metadata": {
    "colab": {
      "provenance": []
    },
    "kernelspec": {
      "name": "python3",
      "display_name": "Python 3"
    },
    "language_info": {
      "name": "python"
    }
  },
  "cells": [
    {
      "cell_type": "markdown",
      "source": [
        "#Importing required modules"
      ],
      "metadata": {
        "id": "OwRQUeeJ1lTO"
      }
    },
    {
      "cell_type": "markdown",
      "source": [
        "##for datapreprocessing"
      ],
      "metadata": {
        "id": "oVZNYMLy1zPZ"
      }
    },
    {
      "cell_type": "code",
      "source": [
        "import os\n",
        "import cv2\n",
        "import shutil\n",
        "import random\n",
        "from PIL import Image\n",
        "import numpy as np\n",
        "from sklearn.model_selection import train_test_split"
      ],
      "metadata": {
        "id": "ewkY2AzLZEdC"
      },
      "execution_count": null,
      "outputs": []
    },
    {
      "cell_type": "markdown",
      "source": [],
      "metadata": {
        "id": "ckcntygA16Mz"
      }
    },
    {
      "cell_type": "markdown",
      "source": [
        "#Data preprocessing"
      ],
      "metadata": {
        "id": "Mgyes54JBLdd"
      }
    },
    {
      "cell_type": "markdown",
      "source": [
        "## MotherFunction1: Labeling, Splitting, Organizing"
      ],
      "metadata": {
        "id": "QdbxKP3WBW6D"
      }
    },
    {
      "cell_type": "markdown",
      "source": [
        "\n",
        "\n",
        "```\n",
        "Format of the raw directory : Dataset/\n",
        "                                   real/\n",
        "                                   fake/\n",
        "```\n",
        "\n"
      ],
      "metadata": {
        "id": "LLPAU2_zCXmq"
      }
    },
    {
      "cell_type": "code",
      "source": [
        "def mother_function1(raw_data_dir, output_dir):"
      ],
      "metadata": {
        "id": "jxIsQmJnBoGj",
        "colab": {
          "base_uri": "https://localhost:8080/",
          "height": 106
        },
        "outputId": "cb81f110-4788-439a-dae9-57764d05a599"
      },
      "execution_count": null,
      "outputs": [
        {
          "output_type": "error",
          "ename": "SyntaxError",
          "evalue": "incomplete input (<ipython-input-11-6daeddfacbe2>, line 1)",
          "traceback": [
            "\u001b[0;36m  File \u001b[0;32m\"<ipython-input-11-6daeddfacbe2>\"\u001b[0;36m, line \u001b[0;32m1\u001b[0m\n\u001b[0;31m    def mother_function1(raw_data_dir, output_dir):\u001b[0m\n\u001b[0m                                                   ^\u001b[0m\n\u001b[0;31mSyntaxError\u001b[0m\u001b[0;31m:\u001b[0m incomplete input\n"
          ]
        }
      ]
    },
    {
      "cell_type": "markdown",
      "source": [
        "###Renaming Images"
      ],
      "metadata": {
        "id": "Fohg9lO705G9"
      }
    },
    {
      "cell_type": "code",
      "source": [
        "  def rename_images(raw_data_dir):\n",
        "       for category in ['real', 'fake']:\n",
        "           category_path = os.path.join(raw_data_dir, category)\n",
        "           if not os.path.exists(category_path):\n",
        "               continue\n",
        "\n",
        "           # Rename images within the category folder\n",
        "           for i, file_name in enumerate(os.listdir(category_path)):\n",
        "               file_path = os.path.join(category_path, file_name)\n",
        "               if os.path.isfile(file_path):\n",
        "                   new_file_name = f\"{category}_{i + 1:04d}.jpg\"\n",
        "                   new_file_path = os.path.join(category_path, new_file_name)\n",
        "                   os.rename(file_path, new_file_path)"
      ],
      "metadata": {
        "id": "q88LiQF704nr"
      },
      "execution_count": null,
      "outputs": []
    },
    {
      "cell_type": "markdown",
      "source": [
        "###Labeling\n"
      ],
      "metadata": {
        "id": "Um2cialVBgrS"
      }
    },
    {
      "cell_type": "code",
      "source": [
        "  def label_data(raw_data_dir):\n",
        "          labels = {}\n",
        "          for category in ['real', 'fake']:\n",
        "              category_path = os.path.join(raw_data_dir, category)\n",
        "              if not os.path.exists(category_path):\n",
        "                  continue\n",
        "              for file_name in os.listdir(category_path):\n",
        "                  file_path = os.path.join(category_path, file_name)\n",
        "                  if os.path.isfile(file_path):\n",
        "                      labels[file_path] = 1 if category == 'fake' else 0\n",
        "          return labels"
      ],
      "metadata": {
        "id": "gUnZnyssBaKV"
      },
      "execution_count": null,
      "outputs": []
    },
    {
      "cell_type": "markdown",
      "source": [
        "###Splitting"
      ],
      "metadata": {
        "id": "QwM39iJOBy80"
      }
    },
    {
      "cell_type": "code",
      "source": [
        "  def split_data(labels):\n",
        "          file_paths, file_labels = list(labels.keys()), list(labels.values())\n",
        "          train_files, test_files, train_labels, test_labels = train_test_split(\n",
        "              file_paths, file_labels, test_size=0.1, random_state=42, stratify=file_labels\n",
        "          )\n",
        "          train_files, val_files, train_labels, val_labels = train_test_split(\n",
        "              train_files, train_labels, test_size=0.2, random_state=42, stratify=train_labels\n",
        "          )\n",
        "          return (train_files, train_labels), (val_files, val_labels), (test_files, test_labels)"
      ],
      "metadata": {
        "id": "fKMAfRRVByWC"
      },
      "execution_count": null,
      "outputs": []
    },
    {
      "cell_type": "markdown",
      "source": [
        "###Organize"
      ],
      "metadata": {
        "id": "xmm3EA7oDiYH"
      }
    },
    {
      "cell_type": "code",
      "source": [
        "  def organize_data(split_data, output_dir):\n",
        "          for split, (files, labels) in zip(['train', 'validation', 'test'], split_data):\n",
        "              split_dir = os.path.join(output_dir, split)\n",
        "              os.makedirs(split_dir, exist_ok=True)\n",
        "              for file, label in zip(files, labels):\n",
        "                  category_dir = os.path.join(split_dir, 'fake' if label == 1 else 'real')\n",
        "                  os.makedirs(category_dir, exist_ok=True)\n",
        "                  shutil.copy(file, os.path.join(category_dir, os.path.basename(file)))"
      ],
      "metadata": {
        "id": "4q4VVlIgDhLT"
      },
      "execution_count": null,
      "outputs": []
    },
    {
      "cell_type": "markdown",
      "source": [
        "###Execute"
      ],
      "metadata": {
        "id": "0NljKP9zDr6L"
      }
    },
    {
      "cell_type": "code",
      "source": [
        "          rename_images(raw_data_dir)\n",
        "          labels = label_data(raw_data_dir)\n",
        "          split_data_results = split_data(labels)\n",
        "          organize_data(split_data_results, output_dir)"
      ],
      "metadata": {
        "id": "dNa3mIvuDuew",
        "colab": {
          "base_uri": "https://localhost:8080/",
          "height": 193
        },
        "outputId": "1c0a0b75-f6c2-4abd-ed3a-f10e90a24b61"
      },
      "execution_count": null,
      "outputs": [
        {
          "output_type": "error",
          "ename": "NameError",
          "evalue": "name 'raw_data_dir' is not defined",
          "traceback": [
            "\u001b[0;31m---------------------------------------------------------------------------\u001b[0m",
            "\u001b[0;31mNameError\u001b[0m                                 Traceback (most recent call last)",
            "\u001b[0;32m<ipython-input-10-705aef994ffe>\u001b[0m in \u001b[0;36m<cell line: 0>\u001b[0;34m()\u001b[0m\n\u001b[0;32m----> 1\u001b[0;31m \u001b[0mrename_images\u001b[0m\u001b[0;34m(\u001b[0m\u001b[0mraw_data_dir\u001b[0m\u001b[0;34m)\u001b[0m\u001b[0;34m\u001b[0m\u001b[0;34m\u001b[0m\u001b[0m\n\u001b[0m\u001b[1;32m      2\u001b[0m \u001b[0mlabels\u001b[0m \u001b[0;34m=\u001b[0m \u001b[0mlabel_data\u001b[0m\u001b[0;34m(\u001b[0m\u001b[0mraw_data_dir\u001b[0m\u001b[0;34m)\u001b[0m\u001b[0;34m\u001b[0m\u001b[0;34m\u001b[0m\u001b[0m\n\u001b[1;32m      3\u001b[0m \u001b[0msplit_data_results\u001b[0m \u001b[0;34m=\u001b[0m \u001b[0msplit_data\u001b[0m\u001b[0;34m(\u001b[0m\u001b[0mlabels\u001b[0m\u001b[0;34m)\u001b[0m\u001b[0;34m\u001b[0m\u001b[0;34m\u001b[0m\u001b[0m\n\u001b[1;32m      4\u001b[0m \u001b[0morganize_data\u001b[0m\u001b[0;34m(\u001b[0m\u001b[0msplit_data_results\u001b[0m\u001b[0;34m,\u001b[0m \u001b[0moutput_dir\u001b[0m\u001b[0;34m)\u001b[0m\u001b[0;34m\u001b[0m\u001b[0;34m\u001b[0m\u001b[0m\n",
            "\u001b[0;31mNameError\u001b[0m: name 'raw_data_dir' is not defined"
          ]
        }
      ]
    },
    {
      "cell_type": "markdown",
      "source": [
        "## MotherFunction2: Resizing and Normalizing"
      ],
      "metadata": {
        "id": "e7POqcUxG6HQ"
      }
    },
    {
      "cell_type": "code",
      "source": [
        "def mother_function2(data_dir, image_size=(224, 224)):"
      ],
      "metadata": {
        "id": "1l58HXLnG6HQ"
      },
      "execution_count": null,
      "outputs": []
    },
    {
      "cell_type": "markdown",
      "source": [
        "###Resizing\n"
      ],
      "metadata": {
        "id": "8BbgH4_oG6HR"
      }
    },
    {
      "cell_type": "code",
      "source": [
        "     def resize_images(data_dir, image_size):\n",
        "        for split in ['train', 'validation', 'test']:\n",
        "            split_dir = os.path.join(data_dir, split)\n",
        "            for category in ['real', 'fake']:\n",
        "                category_dir = os.path.join(split_dir, category)\n",
        "                for file_name in os.listdir(category_dir):\n",
        "                    file_path = os.path.join(category_dir, file_name)\n",
        "                    try:\n",
        "                        with Image.open(file_path) as img:\n",
        "                            img = img.resize(image_size)\n",
        "                            img.save(file_path)\n",
        "                    except Exception as e:\n",
        "                        print(f\"Error resizing image {file_path}: {e}\")"
      ],
      "metadata": {
        "id": "EsOgzALrG6HR"
      },
      "execution_count": null,
      "outputs": []
    },
    {
      "cell_type": "markdown",
      "source": [
        "###Normalizing"
      ],
      "metadata": {
        "id": "9hY8cojKG6HR"
      }
    },
    {
      "cell_type": "code",
      "source": [
        "     def normalize_images(data_dir):\n",
        "        for split in ['train', 'validation', 'test']:\n",
        "            split_dir = os.path.join(data_dir, split)\n",
        "            for category in ['real', 'fake']:\n",
        "                category_dir = os.path.join(split_dir, category)\n",
        "                for file_name in os.listdir(category_dir):\n",
        "                    file_path = os.path.join(category_dir, file_name)\n",
        "                    try:\n",
        "                        with Image.open(file_path) as img:\n",
        "                            img_array = np.asarray(img, dtype=np.float32)\n",
        "                            img_array /= 255.0  # Normalization to [0, 1]\n",
        "                            img = Image.fromarray((img_array * 255).astype(np.uint8))\n",
        "                            img.save(file_path)\n",
        "                    except Exception as e:\n",
        "                        print(f\"Error normalizing image {file_path}: {e}\")"
      ],
      "metadata": {
        "id": "YnKINrk9G6HR"
      },
      "execution_count": null,
      "outputs": []
    },
    {
      "cell_type": "markdown",
      "source": [
        "### Execute the functions"
      ],
      "metadata": {
        "id": "KfQ1ooeAG6HR"
      }
    },
    {
      "cell_type": "code",
      "source": [
        "        resize_images(data_dir, image_size)\n",
        "        normalize_images(data_dir)\n"
      ],
      "metadata": {
        "id": "A-Jh7Ov9G6HR"
      },
      "execution_count": null,
      "outputs": []
    },
    {
      "cell_type": "markdown",
      "source": [
        "##Main Execution"
      ],
      "metadata": {
        "id": "AWEUXYxSHwmX"
      }
    },
    {
      "cell_type": "markdown",
      "source": [
        "\n",
        "\n",
        "```\n",
        "#Note update the directories path as per your computer , the main function returns organized directory , convert it into arrays or tensors as per your model requirements.\n",
        "```\n",
        "\n"
      ],
      "metadata": {
        "id": "QcS_prTvUabO"
      }
    },
    {
      "cell_type": "code",
      "source": [
        "if __name__ == \"__main__\":\n",
        "\n",
        "\n",
        "    raw_dataset_path = \"/content/drive/MyDrive/Dataset_SKYJA/Dataset\"  # Directory containing 'real' and 'fake' subfolders\n",
        "    processed_dataset_path = \"/content/drive/MyDrive/Dataset_SKYJA/Processed_output\"  # Output directory for processed data\n",
        "\n",
        "    # MotherFunction1: Labeling, Splitting, Organizing\n",
        "    mother_function1(raw_dataset_path, processed_dataset_path)\n",
        "\n",
        "    # MotherFunction2: Resizing and Normalizing\n",
        "    mother_function2(processed_dataset_path, image_size=(224, 224))"
      ],
      "metadata": {
        "id": "2rxLkNeiHvzV"
      },
      "execution_count": null,
      "outputs": []
    },
    {
      "cell_type": "markdown",
      "source": [
        "#Model Implementation"
      ],
      "metadata": {
        "id": "fvZYjKOgInqe"
      }
    },
    {
      "cell_type": "markdown",
      "source": [],
      "metadata": {
        "id": "gndVRsqMIusV"
      }
    },
    {
      "cell_type": "code",
      "source": [],
      "metadata": {
        "id": "C1p8JF3xInB2"
      },
      "execution_count": null,
      "outputs": []
    }
  ]
}